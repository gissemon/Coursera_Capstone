{
    "nbformat_minor": 1, 
    "cells": [
        {
            "source": "# INTRODUCTION - BUSINESS PROBLEM", 
            "cell_type": "markdown", 
            "metadata": {}
        }, 
        {
            "source": "# Opportunity:  \n\n### To identify opened businesses in Lima Per\u00fa for entrepeneurs that would like to open up a new business in Peru's capital.\n\n# Target Audience: \n\n### Stakeholders who would like to invest in a new business in Peru.\n\n# BACKGROUND:\n\n### It's not easy to start a new business. Maybe there is an idea on going to set up a new place or the goal is to fill a gap in teh market place. It's not an easy journey and this project will give visibility on the business already opened in Peru's capital and group them in clusters. This will allow to provide a conclusion to the Stakeholders on the clusters found by city for opportunities to invest.", 
            "cell_type": "markdown", 
            "metadata": {}
        }, 
        {
            "execution_count": null, 
            "cell_type": "code", 
            "metadata": {}, 
            "outputs": [], 
            "source": ""
        }
    ], 
    "metadata": {
        "kernelspec": {
            "display_name": "Python 3.5", 
            "name": "python3", 
            "language": "python"
        }, 
        "language_info": {
            "mimetype": "text/x-python", 
            "nbconvert_exporter": "python", 
            "version": "3.5.5", 
            "name": "python", 
            "file_extension": ".py", 
            "pygments_lexer": "ipython3", 
            "codemirror_mode": {
                "version": 3, 
                "name": "ipython"
            }
        }
    }, 
    "nbformat": 4
}