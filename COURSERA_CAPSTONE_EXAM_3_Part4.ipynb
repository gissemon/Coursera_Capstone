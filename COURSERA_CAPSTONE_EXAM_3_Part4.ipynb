{
    "nbformat_minor": 1, 
    "cells": [
        {
            "source": "# Introduction/Business Problem", 
            "cell_type": "markdown", 
            "metadata": {}
        }, 
        {
            "source": "## Opportunity:\n### To identify opened businesses in Lima Per\u00fa for entrepeneurs that would like to open up a new business in Peru's capital.\n## Target Audience:\n### Stakeholders who would like to invest in a new business in Peru.\n## BACKGROUND:\n### It's not easy to start a new business. Maybe there is an idea on going to set up a new place or the goal is to fill a gap in teh market place. It's not an easy journey and this project will give visibility on the business already opened in Peru's capital and group them in clusters. This will allow to provide a conclusion to the Stakeholders on the clusters found by city for opportunities to invest.", 
            "cell_type": "markdown", 
            "metadata": {}
        }, 
        {
            "source": "# DATA", 
            "cell_type": "markdown", 
            "metadata": {}
        }, 
        {
            "source": "### Foursquare information has been used to identify the places found in Lima Peru\n\n### They have been categorized and grouped by cluster to idenfify the opened businesses in Lima Peru by Category", 
            "cell_type": "markdown", 
            "metadata": {}
        }, 
        {
            "source": "# METHODOLOGY", 
            "cell_type": "markdown", 
            "metadata": {}
        }, 
        {
            "source": "### Location information has been obtained using foursquare\n### Places found in Lima have been loaded and processed into a dataframe \n### A clustering algorithm have been implemented to group the places found to give visibility to stakeholders of opened opportunities by city and category", 
            "cell_type": "markdown", 
            "metadata": {}
        }, 
        {
            "source": "# RESULTS", 
            "cell_type": "markdown", 
            "metadata": {}
        }, 
        {
            "source": "### Different type of businesses have been found in Peru's capital, it's interesting how small was the cluster of night entertainment places, specially in one district in Lima, Pueblo Libre.  Here there is an opportunity to invest.", 
            "cell_type": "markdown", 
            "metadata": {}
        }, 
        {
            "source": "# DISCUSSION", 
            "cell_type": "markdown", 
            "metadata": {}
        }, 
        {
            "source": "### Even though many cafe's where found around the area, in the first interview with the stakeholders they have showned their interest in investing in a place like Starbucks where people can go eat and use wifi when needed.\n### Opportunity to provide the venues with less presence of coffee shops is also an option for the stakeholders, that has been found in the district of Magdalena.", 
            "cell_type": "markdown", 
            "metadata": {}
        }, 
        {
            "source": "# CONCLUSION", 
            "cell_type": "markdown", 
            "metadata": {}
        }, 
        {
            "source": "### Even though as a first result we have seen that the opportunity to invest is on night clubs due to the low quantity of places found in this category, the stakeholders would like to focus the analysis on cofee shops. The district that shows venues with less coffee shops available is Magdalena. A list of the the venues is being provided to the stakeholders for investment opportunities.", 
            "cell_type": "markdown", 
            "metadata": {}
        }, 
        {
            "execution_count": null, 
            "cell_type": "code", 
            "metadata": {}, 
            "outputs": [], 
            "source": ""
        }
    ], 
    "metadata": {
        "kernelspec": {
            "display_name": "Python 3.5", 
            "name": "python3", 
            "language": "python"
        }, 
        "language_info": {
            "mimetype": "text/x-python", 
            "nbconvert_exporter": "python", 
            "version": "3.5.5", 
            "name": "python", 
            "file_extension": ".py", 
            "pygments_lexer": "ipython3", 
            "codemirror_mode": {
                "version": 3, 
                "name": "ipython"
            }
        }
    }, 
    "nbformat": 4
}